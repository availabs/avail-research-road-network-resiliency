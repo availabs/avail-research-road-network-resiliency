{
 "cells": [
  {
   "cell_type": "code",
   "execution_count": 1,
   "id": "1f039808",
   "metadata": {},
   "outputs": [],
   "source": [
    "import os\n",
    "\n",
    "from prefect import flow"
   ]
  },
  {
   "cell_type": "code",
   "execution_count": null,
   "id": "57daacca",
   "metadata": {},
   "outputs": [],
   "source": [
    "from tasks.osm.tasks import extract_osm_region_road_network_task\n",
    "from experiments.e001_pjt_utah_redundancy import workflow as e001_utah_redundancy_flow"
   ]
  },
  {
   "cell_type": "code",
   "execution_count": 3,
   "id": "843576ed",
   "metadata": {},
   "outputs": [
    {
     "name": "stdout",
     "output_type": "stream",
     "text": [
      "/home/avail/AVAIL/avail-research-road-network-resiliency/data/processed/osm/nonservice-roadways-buffer-50mi-state-36_us-250101.osm.pbf\n"
     ]
    }
   ],
   "source": [
    "BASE_OSM_PBF = os.path.abspath(\n",
    "    \"../../data/processed/osm/nonservice-roadways-buffer-50mi-state-36_us-250101.osm.pbf\"\n",
    ")\n",
    "\n",
    "print(BASE_OSM_PBF)"
   ]
  },
  {
   "cell_type": "code",
   "execution_count": 4,
   "id": "2dc16ebd",
   "metadata": {},
   "outputs": [],
   "source": [
    "geoid = \"36041\""
   ]
  },
  {
   "cell_type": "code",
   "execution_count": null,
   "id": "7f7a9ca1",
   "metadata": {},
   "outputs": [],
   "source": [
    "@flow\n",
    "def main(\n",
    "    geoid: str,\n",
    "):\n",
    "    osm_pbf = extract_osm_region_road_network_task(\n",
    "        base_osm_pbf=BASE_OSM_PBF, #\n",
    "        geoid=geoid,\n",
    "        buffer_dist_mi=10,\n",
    "    )\n",
    "\n",
    "    e001_gpkg = e001_utah_redundancy_flow(osm_pbf=osm_pbf)"
   ]
  },
  {
   "cell_type": "code",
   "execution_count": 6,
   "id": "7edb83fb",
   "metadata": {},
   "outputs": [
    {
     "data": {
      "text/html": [
       "<pre style=\"white-space:pre;overflow-x:auto;line-height:normal;font-family:Menlo,'DejaVu Sans Mono',consolas,'Courier New',monospace\">16:04:57.679 | <span style=\"color: #008080; text-decoration-color: #008080\">INFO</span>    | prefect - Starting temporary server on <span style=\"color: #0000ff; text-decoration-color: #0000ff\">http://127.0.0.1:8973</span>\n",
       "See <span style=\"color: #0000ff; text-decoration-color: #0000ff\">https://docs.prefect.io/3.0/manage/self-host#self-host-a-prefect-server</span> for more information on running a dedicated Prefect server.\n",
       "</pre>\n"
      ],
      "text/plain": [
       "16:04:57.679 | \u001b[36mINFO\u001b[0m    | prefect - Starting temporary server on \u001b[94mhttp://127.0.0.1:8973\u001b[0m\n",
       "See \u001b[94mhttps://docs.prefect.io/3.0/manage/self-host#self-host-a-prefect-server\u001b[0m for more information on running a dedicated Prefect server.\n"
      ]
     },
     "metadata": {},
     "output_type": "display_data"
    },
    {
     "data": {
      "text/html": [
       "<pre style=\"white-space:pre;overflow-x:auto;line-height:normal;font-family:Menlo,'DejaVu Sans Mono',consolas,'Courier New',monospace\">16:05:02.402 | <span style=\"color: #008080; text-decoration-color: #008080\">INFO</span>    | Flow run<span style=\"color: #800080; text-decoration-color: #800080\"> 'optimistic-marmot'</span> - Beginning flow run<span style=\"color: #800080; text-decoration-color: #800080\"> 'optimistic-marmot'</span> for flow<span style=\"color: #800080; text-decoration-color: #800080; font-weight: bold\"> 'main'</span>\n",
       "</pre>\n"
      ],
      "text/plain": [
       "16:05:02.402 | \u001b[36mINFO\u001b[0m    | Flow run\u001b[35m 'optimistic-marmot'\u001b[0m - Beginning flow run\u001b[35m 'optimistic-marmot'\u001b[0m for flow\u001b[1;35m 'main'\u001b[0m\n"
      ]
     },
     "metadata": {},
     "output_type": "display_data"
    },
    {
     "data": {
      "text/html": [
       "<pre style=\"white-space:pre;overflow-x:auto;line-height:normal;font-family:Menlo,'DejaVu Sans Mono',consolas,'Courier New',monospace\">16:05:03.806 | <span style=\"color: #d70000; text-decoration-color: #d70000\">ERROR</span>   | Task run 'Create OSM PBF Extract for Region-06b' - Task run failed with exception: FileNotFoundError(2, 'No such file or directory') - Retries are exhausted\n",
       "Traceback (most recent call last):\n",
       "  File \"/home/avail/AVAIL/avail-research-road-network-resiliency/.venv/lib/python3.12/site-packages/prefect/task_engine.py\", line 819, in run_context\n",
       "    yield self\n",
       "  File \"/home/avail/AVAIL/avail-research-road-network-resiliency/.venv/lib/python3.12/site-packages/prefect/task_engine.py\", line 1395, in run_task_sync\n",
       "    engine.call_task_fn(txn)\n",
       "  File \"/home/avail/AVAIL/avail-research-road-network-resiliency/.venv/lib/python3.12/site-packages/prefect/task_engine.py\", line 836, in call_task_fn\n",
       "    result = call_with_parameters(self.task.fn, parameters)\n",
       "             ^^^^^^^^^^^^^^^^^^^^^^^^^^^^^^^^^^^^^^^^^^^^^^\n",
       "  File \"/home/avail/AVAIL/avail-research-road-network-resiliency/.venv/lib/python3.12/site-packages/prefect/utilities/callables.py\", line 210, in call_with_parameters\n",
       "    return fn(*args, **kwargs)\n",
       "           ^^^^^^^^^^^^^^^^^^^\n",
       "  File \"/home/avail/AVAIL/avail-research-road-network-resiliency/tasks/osm/tasks.py\", line 37, in extract_osm_region_road_network_task\n",
       "    osm_pbf = create_osm_region_road_network_extract_pbf(\n",
       "              ^^^^^^^^^^^^^^^^^^^^^^^^^^^^^^^^^^^^^^^^^^^\n",
       "  File \"/home/avail/AVAIL/avail-research-road-network-resiliency/common/osm/extract.py\", line 199, in create_osm_region_road_network_extract_pbf\n",
       "    output_osmosis_filter_poly(\n",
       "  File \"/home/avail/AVAIL/avail-research-road-network-resiliency/common/osm/extract.py\", line 137, in output_osmosis_filter_poly\n",
       "    with open(out_filename, \"w\") as f:\n",
       "         ^^^^^^^^^^^^^^^^^^^^^^^\n",
       "FileNotFoundError: [Errno 2] No such file or directory: '/home/avail/AVAIL/avail-research-road-network-resiliency/common/data/processed/osm/buffer-10mi-county-36041.poly'\n",
       "</pre>\n"
      ],
      "text/plain": [
       "16:05:03.806 | \u001b[38;5;160mERROR\u001b[0m   | Task run 'Create OSM PBF Extract for Region-06b' - Task run failed with exception: FileNotFoundError(2, 'No such file or directory') - Retries are exhausted\n",
       "Traceback (most recent call last):\n",
       "  File \"/home/avail/AVAIL/avail-research-road-network-resiliency/.venv/lib/python3.12/site-packages/prefect/task_engine.py\", line 819, in run_context\n",
       "    yield self\n",
       "  File \"/home/avail/AVAIL/avail-research-road-network-resiliency/.venv/lib/python3.12/site-packages/prefect/task_engine.py\", line 1395, in run_task_sync\n",
       "    engine.call_task_fn(txn)\n",
       "  File \"/home/avail/AVAIL/avail-research-road-network-resiliency/.venv/lib/python3.12/site-packages/prefect/task_engine.py\", line 836, in call_task_fn\n",
       "    result = call_with_parameters(self.task.fn, parameters)\n",
       "             ^^^^^^^^^^^^^^^^^^^^^^^^^^^^^^^^^^^^^^^^^^^^^^\n",
       "  File \"/home/avail/AVAIL/avail-research-road-network-resiliency/.venv/lib/python3.12/site-packages/prefect/utilities/callables.py\", line 210, in call_with_parameters\n",
       "    return fn(*args, **kwargs)\n",
       "           ^^^^^^^^^^^^^^^^^^^\n",
       "  File \"/home/avail/AVAIL/avail-research-road-network-resiliency/tasks/osm/tasks.py\", line 37, in extract_osm_region_road_network_task\n",
       "    osm_pbf = create_osm_region_road_network_extract_pbf(\n",
       "              ^^^^^^^^^^^^^^^^^^^^^^^^^^^^^^^^^^^^^^^^^^^\n",
       "  File \"/home/avail/AVAIL/avail-research-road-network-resiliency/common/osm/extract.py\", line 199, in create_osm_region_road_network_extract_pbf\n",
       "    output_osmosis_filter_poly(\n",
       "  File \"/home/avail/AVAIL/avail-research-road-network-resiliency/common/osm/extract.py\", line 137, in output_osmosis_filter_poly\n",
       "    with open(out_filename, \"w\") as f:\n",
       "         ^^^^^^^^^^^^^^^^^^^^^^^\n",
       "FileNotFoundError: [Errno 2] No such file or directory: '/home/avail/AVAIL/avail-research-road-network-resiliency/common/data/processed/osm/buffer-10mi-county-36041.poly'\n"
      ]
     },
     "metadata": {},
     "output_type": "display_data"
    },
    {
     "data": {
      "text/html": [
       "<pre style=\"white-space:pre;overflow-x:auto;line-height:normal;font-family:Menlo,'DejaVu Sans Mono',consolas,'Courier New',monospace\">16:05:03.816 | <span style=\"color: #d70000; text-decoration-color: #d70000\">ERROR</span>   | Task run 'Create OSM PBF Extract for Region-06b' - Finished in state <span style=\"color: #d70000; text-decoration-color: #d70000\">Failed</span>(\"Task run encountered an exception FileNotFoundError: [Errno 2] No such file or directory: '/home/avail/AVAIL/avail-research-road-network-resiliency/common/data/processed/osm/buffer-10mi-county-36041.poly'\")\n",
       "</pre>\n"
      ],
      "text/plain": [
       "16:05:03.816 | \u001b[38;5;160mERROR\u001b[0m   | Task run 'Create OSM PBF Extract for Region-06b' - Finished in state \u001b[38;5;160mFailed\u001b[0m(\"Task run encountered an exception FileNotFoundError: [Errno 2] No such file or directory: '/home/avail/AVAIL/avail-research-road-network-resiliency/common/data/processed/osm/buffer-10mi-county-36041.poly'\")\n"
      ]
     },
     "metadata": {},
     "output_type": "display_data"
    },
    {
     "data": {
      "text/html": [
       "<pre style=\"white-space:pre;overflow-x:auto;line-height:normal;font-family:Menlo,'DejaVu Sans Mono',consolas,'Courier New',monospace\">16:05:03.818 | <span style=\"color: #d70000; text-decoration-color: #d70000\">ERROR</span>   | Flow run<span style=\"color: #800080; text-decoration-color: #800080\"> 'optimistic-marmot'</span> - Encountered exception during execution: FileNotFoundError(2, 'No such file or directory')\n",
       "Traceback (most recent call last):\n",
       "  File \"/home/avail/AVAIL/avail-research-road-network-resiliency/.venv/lib/python3.12/site-packages/prefect/flow_engine.py\", line 763, in run_context\n",
       "    yield self\n",
       "  File \"/home/avail/AVAIL/avail-research-road-network-resiliency/.venv/lib/python3.12/site-packages/prefect/flow_engine.py\", line 1370, in run_flow_sync\n",
       "    engine.call_flow_fn()\n",
       "  File \"/home/avail/AVAIL/avail-research-road-network-resiliency/.venv/lib/python3.12/site-packages/prefect/flow_engine.py\", line 783, in call_flow_fn\n",
       "    result = call_with_parameters(self.flow.fn, self.parameters)\n",
       "             ^^^^^^^^^^^^^^^^^^^^^^^^^^^^^^^^^^^^^^^^^^^^^^^^^^^\n",
       "  File \"/home/avail/AVAIL/avail-research-road-network-resiliency/.venv/lib/python3.12/site-packages/prefect/utilities/callables.py\", line 210, in call_with_parameters\n",
       "    return fn(*args, **kwargs)\n",
       "           ^^^^^^^^^^^^^^^^^^^\n",
       "  File \"/tmp/ipykernel_154916/50273367.py\", line 5, in main\n",
       "    osm_pbf = extract_osm_region_road_network_task(\n",
       "              ^^^^^^^^^^^^^^^^^^^^^^^^^^^^^^^^^^^^^\n",
       "  File \"/home/avail/AVAIL/avail-research-road-network-resiliency/.venv/lib/python3.12/site-packages/prefect/tasks.py\", line 1058, in __call__\n",
       "    return run_task(\n",
       "           ^^^^^^^^^\n",
       "  File \"/home/avail/AVAIL/avail-research-road-network-resiliency/.venv/lib/python3.12/site-packages/prefect/task_engine.py\", line 1610, in run_task\n",
       "    return run_task_sync(**kwargs)\n",
       "           ^^^^^^^^^^^^^^^^^^^^^^^\n",
       "  File \"/home/avail/AVAIL/avail-research-road-network-resiliency/.venv/lib/python3.12/site-packages/prefect/task_engine.py\", line 1397, in run_task_sync\n",
       "    return engine.state if return_type == \"state\" else engine.result()\n",
       "                                                       ^^^^^^^^^^^^^^^\n",
       "  File \"/home/avail/AVAIL/avail-research-road-network-resiliency/.venv/lib/python3.12/site-packages/prefect/task_engine.py\", line 490, in result\n",
       "    raise self._raised\n",
       "  File \"/home/avail/AVAIL/avail-research-road-network-resiliency/.venv/lib/python3.12/site-packages/prefect/task_engine.py\", line 819, in run_context\n",
       "    yield self\n",
       "  File \"/home/avail/AVAIL/avail-research-road-network-resiliency/.venv/lib/python3.12/site-packages/prefect/task_engine.py\", line 1395, in run_task_sync\n",
       "    engine.call_task_fn(txn)\n",
       "  File \"/home/avail/AVAIL/avail-research-road-network-resiliency/.venv/lib/python3.12/site-packages/prefect/task_engine.py\", line 836, in call_task_fn\n",
       "    result = call_with_parameters(self.task.fn, parameters)\n",
       "             ^^^^^^^^^^^^^^^^^^^^^^^^^^^^^^^^^^^^^^^^^^^^^^\n",
       "  File \"/home/avail/AVAIL/avail-research-road-network-resiliency/.venv/lib/python3.12/site-packages/prefect/utilities/callables.py\", line 210, in call_with_parameters\n",
       "    return fn(*args, **kwargs)\n",
       "           ^^^^^^^^^^^^^^^^^^^\n",
       "  File \"/home/avail/AVAIL/avail-research-road-network-resiliency/tasks/osm/tasks.py\", line 37, in extract_osm_region_road_network_task\n",
       "    osm_pbf = create_osm_region_road_network_extract_pbf(\n",
       "              ^^^^^^^^^^^^^^^^^^^^^^^^^^^^^^^^^^^^^^^^^^^\n",
       "  File \"/home/avail/AVAIL/avail-research-road-network-resiliency/common/osm/extract.py\", line 199, in create_osm_region_road_network_extract_pbf\n",
       "    output_osmosis_filter_poly(\n",
       "  File \"/home/avail/AVAIL/avail-research-road-network-resiliency/common/osm/extract.py\", line 137, in output_osmosis_filter_poly\n",
       "    with open(out_filename, \"w\") as f:\n",
       "         ^^^^^^^^^^^^^^^^^^^^^^^\n",
       "FileNotFoundError: [Errno 2] No such file or directory: '/home/avail/AVAIL/avail-research-road-network-resiliency/common/data/processed/osm/buffer-10mi-county-36041.poly'\n",
       "</pre>\n"
      ],
      "text/plain": [
       "16:05:03.818 | \u001b[38;5;160mERROR\u001b[0m   | Flow run\u001b[35m 'optimistic-marmot'\u001b[0m - Encountered exception during execution: FileNotFoundError(2, 'No such file or directory')\n",
       "Traceback (most recent call last):\n",
       "  File \"/home/avail/AVAIL/avail-research-road-network-resiliency/.venv/lib/python3.12/site-packages/prefect/flow_engine.py\", line 763, in run_context\n",
       "    yield self\n",
       "  File \"/home/avail/AVAIL/avail-research-road-network-resiliency/.venv/lib/python3.12/site-packages/prefect/flow_engine.py\", line 1370, in run_flow_sync\n",
       "    engine.call_flow_fn()\n",
       "  File \"/home/avail/AVAIL/avail-research-road-network-resiliency/.venv/lib/python3.12/site-packages/prefect/flow_engine.py\", line 783, in call_flow_fn\n",
       "    result = call_with_parameters(self.flow.fn, self.parameters)\n",
       "             ^^^^^^^^^^^^^^^^^^^^^^^^^^^^^^^^^^^^^^^^^^^^^^^^^^^\n",
       "  File \"/home/avail/AVAIL/avail-research-road-network-resiliency/.venv/lib/python3.12/site-packages/prefect/utilities/callables.py\", line 210, in call_with_parameters\n",
       "    return fn(*args, **kwargs)\n",
       "           ^^^^^^^^^^^^^^^^^^^\n",
       "  File \"/tmp/ipykernel_154916/50273367.py\", line 5, in main\n",
       "    osm_pbf = extract_osm_region_road_network_task(\n",
       "              ^^^^^^^^^^^^^^^^^^^^^^^^^^^^^^^^^^^^^\n",
       "  File \"/home/avail/AVAIL/avail-research-road-network-resiliency/.venv/lib/python3.12/site-packages/prefect/tasks.py\", line 1058, in __call__\n",
       "    return run_task(\n",
       "           ^^^^^^^^^\n",
       "  File \"/home/avail/AVAIL/avail-research-road-network-resiliency/.venv/lib/python3.12/site-packages/prefect/task_engine.py\", line 1610, in run_task\n",
       "    return run_task_sync(**kwargs)\n",
       "           ^^^^^^^^^^^^^^^^^^^^^^^\n",
       "  File \"/home/avail/AVAIL/avail-research-road-network-resiliency/.venv/lib/python3.12/site-packages/prefect/task_engine.py\", line 1397, in run_task_sync\n",
       "    return engine.state if return_type == \"state\" else engine.result()\n",
       "                                                       ^^^^^^^^^^^^^^^\n",
       "  File \"/home/avail/AVAIL/avail-research-road-network-resiliency/.venv/lib/python3.12/site-packages/prefect/task_engine.py\", line 490, in result\n",
       "    raise self._raised\n",
       "  File \"/home/avail/AVAIL/avail-research-road-network-resiliency/.venv/lib/python3.12/site-packages/prefect/task_engine.py\", line 819, in run_context\n",
       "    yield self\n",
       "  File \"/home/avail/AVAIL/avail-research-road-network-resiliency/.venv/lib/python3.12/site-packages/prefect/task_engine.py\", line 1395, in run_task_sync\n",
       "    engine.call_task_fn(txn)\n",
       "  File \"/home/avail/AVAIL/avail-research-road-network-resiliency/.venv/lib/python3.12/site-packages/prefect/task_engine.py\", line 836, in call_task_fn\n",
       "    result = call_with_parameters(self.task.fn, parameters)\n",
       "             ^^^^^^^^^^^^^^^^^^^^^^^^^^^^^^^^^^^^^^^^^^^^^^\n",
       "  File \"/home/avail/AVAIL/avail-research-road-network-resiliency/.venv/lib/python3.12/site-packages/prefect/utilities/callables.py\", line 210, in call_with_parameters\n",
       "    return fn(*args, **kwargs)\n",
       "           ^^^^^^^^^^^^^^^^^^^\n",
       "  File \"/home/avail/AVAIL/avail-research-road-network-resiliency/tasks/osm/tasks.py\", line 37, in extract_osm_region_road_network_task\n",
       "    osm_pbf = create_osm_region_road_network_extract_pbf(\n",
       "              ^^^^^^^^^^^^^^^^^^^^^^^^^^^^^^^^^^^^^^^^^^^\n",
       "  File \"/home/avail/AVAIL/avail-research-road-network-resiliency/common/osm/extract.py\", line 199, in create_osm_region_road_network_extract_pbf\n",
       "    output_osmosis_filter_poly(\n",
       "  File \"/home/avail/AVAIL/avail-research-road-network-resiliency/common/osm/extract.py\", line 137, in output_osmosis_filter_poly\n",
       "    with open(out_filename, \"w\") as f:\n",
       "         ^^^^^^^^^^^^^^^^^^^^^^^\n",
       "FileNotFoundError: [Errno 2] No such file or directory: '/home/avail/AVAIL/avail-research-road-network-resiliency/common/data/processed/osm/buffer-10mi-county-36041.poly'\n"
      ]
     },
     "metadata": {},
     "output_type": "display_data"
    },
    {
     "data": {
      "text/html": [
       "<pre style=\"white-space:pre;overflow-x:auto;line-height:normal;font-family:Menlo,'DejaVu Sans Mono',consolas,'Courier New',monospace\">16:05:03.918 | <span style=\"color: #008080; text-decoration-color: #008080\">INFO</span>    | Flow run<span style=\"color: #800080; text-decoration-color: #800080\"> 'optimistic-marmot'</span> - Finished in state <span style=\"color: #d70000; text-decoration-color: #d70000\">Failed</span>(\"Flow run encountered an exception: FileNotFoundError: [Errno 2] No such file or directory: '/home/avail/AVAIL/avail-research-road-network-resiliency/common/data/processed/osm/buffer-10mi-county-36041.poly'\")\n",
       "</pre>\n"
      ],
      "text/plain": [
       "16:05:03.918 | \u001b[36mINFO\u001b[0m    | Flow run\u001b[35m 'optimistic-marmot'\u001b[0m - Finished in state \u001b[38;5;160mFailed\u001b[0m(\"Flow run encountered an exception: FileNotFoundError: [Errno 2] No such file or directory: '/home/avail/AVAIL/avail-research-road-network-resiliency/common/data/processed/osm/buffer-10mi-county-36041.poly'\")\n"
      ]
     },
     "metadata": {},
     "output_type": "display_data"
    },
    {
     "ename": "FileNotFoundError",
     "evalue": "[Errno 2] No such file or directory: '/home/avail/AVAIL/avail-research-road-network-resiliency/common/data/processed/osm/buffer-10mi-county-36041.poly'",
     "output_type": "error",
     "traceback": [
      "\u001b[0;31m---------------------------------------------------------------------------\u001b[0m",
      "\u001b[0;31mFileNotFoundError\u001b[0m                         Traceback (most recent call last)",
      "Cell \u001b[0;32mIn[6], line 1\u001b[0m\n\u001b[0;32m----> 1\u001b[0m \u001b[43mmain\u001b[49m\u001b[43m(\u001b[49m\u001b[43mgeoid\u001b[49m\u001b[43m)\u001b[49m\n",
      "File \u001b[0;32m~/AVAIL/avail-research-road-network-resiliency/.venv/lib/python3.12/site-packages/prefect/flows.py:1675\u001b[0m, in \u001b[0;36mFlow.__call__\u001b[0;34m(self, return_state, wait_for, *args, **kwargs)\u001b[0m\n\u001b[1;32m   1671\u001b[0m     \u001b[38;5;28;01mreturn\u001b[39;00m track_viz_task(\u001b[38;5;28mself\u001b[39m\u001b[38;5;241m.\u001b[39misasync, \u001b[38;5;28mself\u001b[39m\u001b[38;5;241m.\u001b[39mname, parameters)\n\u001b[1;32m   1673\u001b[0m \u001b[38;5;28;01mfrom\u001b[39;00m\u001b[38;5;250m \u001b[39m\u001b[38;5;21;01mprefect\u001b[39;00m\u001b[38;5;21;01m.\u001b[39;00m\u001b[38;5;21;01mflow_engine\u001b[39;00m\u001b[38;5;250m \u001b[39m\u001b[38;5;28;01mimport\u001b[39;00m run_flow\n\u001b[0;32m-> 1675\u001b[0m \u001b[38;5;28;01mreturn\u001b[39;00m \u001b[43mrun_flow\u001b[49m\u001b[43m(\u001b[49m\n\u001b[1;32m   1676\u001b[0m \u001b[43m    \u001b[49m\u001b[43mflow\u001b[49m\u001b[38;5;241;43m=\u001b[39;49m\u001b[38;5;28;43mself\u001b[39;49m\u001b[43m,\u001b[49m\n\u001b[1;32m   1677\u001b[0m \u001b[43m    \u001b[49m\u001b[43mparameters\u001b[49m\u001b[38;5;241;43m=\u001b[39;49m\u001b[43mparameters\u001b[49m\u001b[43m,\u001b[49m\n\u001b[1;32m   1678\u001b[0m \u001b[43m    \u001b[49m\u001b[43mwait_for\u001b[49m\u001b[38;5;241;43m=\u001b[39;49m\u001b[43mwait_for\u001b[49m\u001b[43m,\u001b[49m\n\u001b[1;32m   1679\u001b[0m \u001b[43m    \u001b[49m\u001b[43mreturn_type\u001b[49m\u001b[38;5;241;43m=\u001b[39;49m\u001b[43mreturn_type\u001b[49m\u001b[43m,\u001b[49m\n\u001b[1;32m   1680\u001b[0m \u001b[43m\u001b[49m\u001b[43m)\u001b[49m\n",
      "File \u001b[0;32m~/AVAIL/avail-research-road-network-resiliency/.venv/lib/python3.12/site-packages/prefect/flow_engine.py:1527\u001b[0m, in \u001b[0;36mrun_flow\u001b[0;34m(flow, flow_run, parameters, wait_for, return_type, error_logger, context)\u001b[0m\n\u001b[1;32m   1525\u001b[0m         ret_val \u001b[38;5;241m=\u001b[39m run_flow_async(\u001b[38;5;241m*\u001b[39m\u001b[38;5;241m*\u001b[39mkwargs)\n\u001b[1;32m   1526\u001b[0m     \u001b[38;5;28;01melse\u001b[39;00m:\n\u001b[0;32m-> 1527\u001b[0m         ret_val \u001b[38;5;241m=\u001b[39m \u001b[43mrun_flow_sync\u001b[49m\u001b[43m(\u001b[49m\u001b[38;5;241;43m*\u001b[39;49m\u001b[38;5;241;43m*\u001b[39;49m\u001b[43mkwargs\u001b[49m\u001b[43m)\u001b[49m\n\u001b[1;32m   1528\u001b[0m \u001b[38;5;28;01mexcept\u001b[39;00m (Abort, Pause):\n\u001b[1;32m   1529\u001b[0m     \u001b[38;5;28;01mraise\u001b[39;00m\n",
      "File \u001b[0;32m~/AVAIL/avail-research-road-network-resiliency/.venv/lib/python3.12/site-packages/prefect/flow_engine.py:1372\u001b[0m, in \u001b[0;36mrun_flow_sync\u001b[0;34m(flow, flow_run, parameters, wait_for, return_type, context)\u001b[0m\n\u001b[1;32m   1369\u001b[0m         \u001b[38;5;28;01mwith\u001b[39;00m engine\u001b[38;5;241m.\u001b[39mrun_context():\n\u001b[1;32m   1370\u001b[0m             engine\u001b[38;5;241m.\u001b[39mcall_flow_fn()\n\u001b[0;32m-> 1372\u001b[0m \u001b[38;5;28;01mreturn\u001b[39;00m engine\u001b[38;5;241m.\u001b[39mstate \u001b[38;5;28;01mif\u001b[39;00m return_type \u001b[38;5;241m==\u001b[39m \u001b[38;5;124m\"\u001b[39m\u001b[38;5;124mstate\u001b[39m\u001b[38;5;124m\"\u001b[39m \u001b[38;5;28;01melse\u001b[39;00m \u001b[43mengine\u001b[49m\u001b[38;5;241;43m.\u001b[39;49m\u001b[43mresult\u001b[49m\u001b[43m(\u001b[49m\u001b[43m)\u001b[49m\n",
      "File \u001b[0;32m~/AVAIL/avail-research-road-network-resiliency/.venv/lib/python3.12/site-packages/prefect/flow_engine.py:350\u001b[0m, in \u001b[0;36mFlowRunEngine.result\u001b[0;34m(self, raise_on_failure)\u001b[0m\n\u001b[1;32m    348\u001b[0m \u001b[38;5;28;01mif\u001b[39;00m \u001b[38;5;28mself\u001b[39m\u001b[38;5;241m.\u001b[39m_raised \u001b[38;5;129;01mis\u001b[39;00m \u001b[38;5;129;01mnot\u001b[39;00m NotSet:\n\u001b[1;32m    349\u001b[0m     \u001b[38;5;28;01mif\u001b[39;00m raise_on_failure:\n\u001b[0;32m--> 350\u001b[0m         \u001b[38;5;28;01mraise\u001b[39;00m \u001b[38;5;28mself\u001b[39m\u001b[38;5;241m.\u001b[39m_raised\n\u001b[1;32m    351\u001b[0m     \u001b[38;5;28;01mreturn\u001b[39;00m \u001b[38;5;28mself\u001b[39m\u001b[38;5;241m.\u001b[39m_raised\n\u001b[1;32m    353\u001b[0m \u001b[38;5;66;03m# This is a fall through case which leans on the existing state result mechanics to get the\u001b[39;00m\n\u001b[1;32m    354\u001b[0m \u001b[38;5;66;03m# return value. This is necessary because we currently will return a State object if the\u001b[39;00m\n\u001b[1;32m    355\u001b[0m \u001b[38;5;66;03m# the State was Prefect-created.\u001b[39;00m\n\u001b[1;32m    356\u001b[0m \u001b[38;5;66;03m# TODO: Remove the need to get the result from a State except in cases where the return value\u001b[39;00m\n\u001b[1;32m    357\u001b[0m \u001b[38;5;66;03m# is a State object.\u001b[39;00m\n",
      "File \u001b[0;32m~/AVAIL/avail-research-road-network-resiliency/.venv/lib/python3.12/site-packages/prefect/flow_engine.py:763\u001b[0m, in \u001b[0;36mFlowRunEngine.run_context\u001b[0;34m(self)\u001b[0m\n\u001b[1;32m    756\u001b[0m     \u001b[38;5;28;01mwith\u001b[39;00m timeout_context(\n\u001b[1;32m    757\u001b[0m         seconds\u001b[38;5;241m=\u001b[39m\u001b[38;5;28mself\u001b[39m\u001b[38;5;241m.\u001b[39mflow\u001b[38;5;241m.\u001b[39mtimeout_seconds,\n\u001b[1;32m    758\u001b[0m         timeout_exc_type\u001b[38;5;241m=\u001b[39mFlowRunTimeoutError,\n\u001b[1;32m    759\u001b[0m     ):\n\u001b[1;32m    760\u001b[0m         \u001b[38;5;28mself\u001b[39m\u001b[38;5;241m.\u001b[39mlogger\u001b[38;5;241m.\u001b[39mdebug(\n\u001b[1;32m    761\u001b[0m             \u001b[38;5;124mf\u001b[39m\u001b[38;5;124m\"\u001b[39m\u001b[38;5;124mExecuting flow \u001b[39m\u001b[38;5;132;01m{\u001b[39;00m\u001b[38;5;28mself\u001b[39m\u001b[38;5;241m.\u001b[39mflow\u001b[38;5;241m.\u001b[39mname\u001b[38;5;132;01m!r}\u001b[39;00m\u001b[38;5;124m for flow run \u001b[39m\u001b[38;5;132;01m{\u001b[39;00m\u001b[38;5;28mself\u001b[39m\u001b[38;5;241m.\u001b[39mflow_run\u001b[38;5;241m.\u001b[39mname\u001b[38;5;132;01m!r}\u001b[39;00m\u001b[38;5;124m...\u001b[39m\u001b[38;5;124m\"\u001b[39m\n\u001b[1;32m    762\u001b[0m         )\n\u001b[0;32m--> 763\u001b[0m         \u001b[38;5;28;01myield\u001b[39;00m \u001b[38;5;28mself\u001b[39m\n\u001b[1;32m    764\u001b[0m \u001b[38;5;28;01mexcept\u001b[39;00m \u001b[38;5;167;01mTimeoutError\u001b[39;00m \u001b[38;5;28;01mas\u001b[39;00m exc:\n\u001b[1;32m    765\u001b[0m     \u001b[38;5;28mself\u001b[39m\u001b[38;5;241m.\u001b[39mhandle_timeout(exc)\n",
      "File \u001b[0;32m~/AVAIL/avail-research-road-network-resiliency/.venv/lib/python3.12/site-packages/prefect/flow_engine.py:1370\u001b[0m, in \u001b[0;36mrun_flow_sync\u001b[0;34m(flow, flow_run, parameters, wait_for, return_type, context)\u001b[0m\n\u001b[1;32m   1368\u001b[0m     \u001b[38;5;28;01mwhile\u001b[39;00m engine\u001b[38;5;241m.\u001b[39mis_running():\n\u001b[1;32m   1369\u001b[0m         \u001b[38;5;28;01mwith\u001b[39;00m engine\u001b[38;5;241m.\u001b[39mrun_context():\n\u001b[0;32m-> 1370\u001b[0m             \u001b[43mengine\u001b[49m\u001b[38;5;241;43m.\u001b[39;49m\u001b[43mcall_flow_fn\u001b[49m\u001b[43m(\u001b[49m\u001b[43m)\u001b[49m\n\u001b[1;32m   1372\u001b[0m \u001b[38;5;28;01mreturn\u001b[39;00m engine\u001b[38;5;241m.\u001b[39mstate \u001b[38;5;28;01mif\u001b[39;00m return_type \u001b[38;5;241m==\u001b[39m \u001b[38;5;124m\"\u001b[39m\u001b[38;5;124mstate\u001b[39m\u001b[38;5;124m\"\u001b[39m \u001b[38;5;28;01melse\u001b[39;00m engine\u001b[38;5;241m.\u001b[39mresult()\n",
      "File \u001b[0;32m~/AVAIL/avail-research-road-network-resiliency/.venv/lib/python3.12/site-packages/prefect/flow_engine.py:783\u001b[0m, in \u001b[0;36mFlowRunEngine.call_flow_fn\u001b[0;34m(self)\u001b[0m\n\u001b[1;32m    781\u001b[0m     \u001b[38;5;28;01mreturn\u001b[39;00m _call_flow_fn()\n\u001b[1;32m    782\u001b[0m \u001b[38;5;28;01melse\u001b[39;00m:\n\u001b[0;32m--> 783\u001b[0m     result \u001b[38;5;241m=\u001b[39m \u001b[43mcall_with_parameters\u001b[49m\u001b[43m(\u001b[49m\u001b[38;5;28;43mself\u001b[39;49m\u001b[38;5;241;43m.\u001b[39;49m\u001b[43mflow\u001b[49m\u001b[38;5;241;43m.\u001b[39;49m\u001b[43mfn\u001b[49m\u001b[43m,\u001b[49m\u001b[43m \u001b[49m\u001b[38;5;28;43mself\u001b[39;49m\u001b[38;5;241;43m.\u001b[39;49m\u001b[43mparameters\u001b[49m\u001b[43m)\u001b[49m\n\u001b[1;32m    784\u001b[0m     \u001b[38;5;28mself\u001b[39m\u001b[38;5;241m.\u001b[39mhandle_success(result)\n",
      "File \u001b[0;32m~/AVAIL/avail-research-road-network-resiliency/.venv/lib/python3.12/site-packages/prefect/utilities/callables.py:210\u001b[0m, in \u001b[0;36mcall_with_parameters\u001b[0;34m(fn, parameters)\u001b[0m\n\u001b[1;32m    202\u001b[0m \u001b[38;5;250m\u001b[39m\u001b[38;5;124;03m\"\"\"\u001b[39;00m\n\u001b[1;32m    203\u001b[0m \u001b[38;5;124;03mCall a function with parameters extracted with `get_call_parameters`\u001b[39;00m\n\u001b[1;32m    204\u001b[0m \n\u001b[0;32m   (...)\u001b[0m\n\u001b[1;32m    207\u001b[0m \u001b[38;5;124;03mthe args/kwargs using `parameters_to_positional_and_keyword` directly\u001b[39;00m\n\u001b[1;32m    208\u001b[0m \u001b[38;5;124;03m\"\"\"\u001b[39;00m\n\u001b[1;32m    209\u001b[0m args, kwargs \u001b[38;5;241m=\u001b[39m parameters_to_args_kwargs(fn, parameters)\n\u001b[0;32m--> 210\u001b[0m \u001b[38;5;28;01mreturn\u001b[39;00m \u001b[43mfn\u001b[49m\u001b[43m(\u001b[49m\u001b[38;5;241;43m*\u001b[39;49m\u001b[43margs\u001b[49m\u001b[43m,\u001b[49m\u001b[43m \u001b[49m\u001b[38;5;241;43m*\u001b[39;49m\u001b[38;5;241;43m*\u001b[39;49m\u001b[43mkwargs\u001b[49m\u001b[43m)\u001b[49m\n",
      "Cell \u001b[0;32mIn[5], line 5\u001b[0m, in \u001b[0;36mmain\u001b[0;34m(geoid)\u001b[0m\n\u001b[1;32m      1\u001b[0m \u001b[38;5;129m@flow\u001b[39m\n\u001b[1;32m      2\u001b[0m \u001b[38;5;28;01mdef\u001b[39;00m\u001b[38;5;250m \u001b[39m\u001b[38;5;21mmain\u001b[39m(\n\u001b[1;32m      3\u001b[0m     geoid: \u001b[38;5;28mstr\u001b[39m,\n\u001b[1;32m      4\u001b[0m ):\n\u001b[0;32m----> 5\u001b[0m     osm_pbf \u001b[38;5;241m=\u001b[39m \u001b[43mextract_osm_region_road_network_task\u001b[49m\u001b[43m(\u001b[49m\n\u001b[1;32m      6\u001b[0m \u001b[43m        \u001b[49m\u001b[43mbase_osm_pbf\u001b[49m\u001b[38;5;241;43m=\u001b[39;49m\u001b[43mBASE_OSM_PBF\u001b[49m\u001b[43m,\u001b[49m\u001b[43m \u001b[49m\u001b[38;5;66;43;03m#\u001b[39;49;00m\n\u001b[1;32m      7\u001b[0m \u001b[43m        \u001b[49m\u001b[43mgeoid\u001b[49m\u001b[38;5;241;43m=\u001b[39;49m\u001b[43mgeoid\u001b[49m\u001b[43m,\u001b[49m\n\u001b[1;32m      8\u001b[0m \u001b[43m        \u001b[49m\u001b[43mbuffer_dist_mi\u001b[49m\u001b[38;5;241;43m=\u001b[39;49m\u001b[38;5;241;43m10\u001b[39;49m\u001b[43m,\u001b[49m\n\u001b[1;32m      9\u001b[0m \u001b[43m    \u001b[49m\u001b[43m)\u001b[49m\n\u001b[1;32m     11\u001b[0m     e001_gpkg \u001b[38;5;241m=\u001b[39m e001_utah_redundancy_workflow(osm_pbf\u001b[38;5;241m=\u001b[39mosm_pbf)\n",
      "File \u001b[0;32m~/AVAIL/avail-research-road-network-resiliency/.venv/lib/python3.12/site-packages/prefect/tasks.py:1058\u001b[0m, in \u001b[0;36mTask.__call__\u001b[0;34m(self, return_state, wait_for, *args, **kwargs)\u001b[0m\n\u001b[1;32m   1052\u001b[0m     \u001b[38;5;28;01mreturn\u001b[39;00m track_viz_task(\n\u001b[1;32m   1053\u001b[0m         \u001b[38;5;28mself\u001b[39m\u001b[38;5;241m.\u001b[39misasync, \u001b[38;5;28mself\u001b[39m\u001b[38;5;241m.\u001b[39mname, parameters, \u001b[38;5;28mself\u001b[39m\u001b[38;5;241m.\u001b[39mviz_return_value\n\u001b[1;32m   1054\u001b[0m     )\n\u001b[1;32m   1056\u001b[0m \u001b[38;5;28;01mfrom\u001b[39;00m\u001b[38;5;250m \u001b[39m\u001b[38;5;21;01mprefect\u001b[39;00m\u001b[38;5;21;01m.\u001b[39;00m\u001b[38;5;21;01mtask_engine\u001b[39;00m\u001b[38;5;250m \u001b[39m\u001b[38;5;28;01mimport\u001b[39;00m run_task\n\u001b[0;32m-> 1058\u001b[0m \u001b[38;5;28;01mreturn\u001b[39;00m \u001b[43mrun_task\u001b[49m\u001b[43m(\u001b[49m\n\u001b[1;32m   1059\u001b[0m \u001b[43m    \u001b[49m\u001b[43mtask\u001b[49m\u001b[38;5;241;43m=\u001b[39;49m\u001b[38;5;28;43mself\u001b[39;49m\u001b[43m,\u001b[49m\n\u001b[1;32m   1060\u001b[0m \u001b[43m    \u001b[49m\u001b[43mparameters\u001b[49m\u001b[38;5;241;43m=\u001b[39;49m\u001b[43mparameters\u001b[49m\u001b[43m,\u001b[49m\n\u001b[1;32m   1061\u001b[0m \u001b[43m    \u001b[49m\u001b[43mwait_for\u001b[49m\u001b[38;5;241;43m=\u001b[39;49m\u001b[43mwait_for\u001b[49m\u001b[43m,\u001b[49m\n\u001b[1;32m   1062\u001b[0m \u001b[43m    \u001b[49m\u001b[43mreturn_type\u001b[49m\u001b[38;5;241;43m=\u001b[39;49m\u001b[43mreturn_type\u001b[49m\u001b[43m,\u001b[49m\n\u001b[1;32m   1063\u001b[0m \u001b[43m\u001b[49m\u001b[43m)\u001b[49m\n",
      "File \u001b[0;32m~/AVAIL/avail-research-road-network-resiliency/.venv/lib/python3.12/site-packages/prefect/task_engine.py:1610\u001b[0m, in \u001b[0;36mrun_task\u001b[0;34m(task, task_run_id, task_run, parameters, wait_for, return_type, dependencies, context)\u001b[0m\n\u001b[1;32m   1608\u001b[0m     \u001b[38;5;28;01mreturn\u001b[39;00m run_task_async(\u001b[38;5;241m*\u001b[39m\u001b[38;5;241m*\u001b[39mkwargs)\n\u001b[1;32m   1609\u001b[0m \u001b[38;5;28;01melse\u001b[39;00m:\n\u001b[0;32m-> 1610\u001b[0m     \u001b[38;5;28;01mreturn\u001b[39;00m \u001b[43mrun_task_sync\u001b[49m\u001b[43m(\u001b[49m\u001b[38;5;241;43m*\u001b[39;49m\u001b[38;5;241;43m*\u001b[39;49m\u001b[43mkwargs\u001b[49m\u001b[43m)\u001b[49m\n",
      "File \u001b[0;32m~/AVAIL/avail-research-road-network-resiliency/.venv/lib/python3.12/site-packages/prefect/task_engine.py:1397\u001b[0m, in \u001b[0;36mrun_task_sync\u001b[0;34m(task, task_run_id, task_run, parameters, wait_for, return_type, dependencies, context)\u001b[0m\n\u001b[1;32m   1394\u001b[0m         \u001b[38;5;28;01mwith\u001b[39;00m engine\u001b[38;5;241m.\u001b[39mrun_context(), engine\u001b[38;5;241m.\u001b[39mtransaction_context() \u001b[38;5;28;01mas\u001b[39;00m txn:\n\u001b[1;32m   1395\u001b[0m             engine\u001b[38;5;241m.\u001b[39mcall_task_fn(txn)\n\u001b[0;32m-> 1397\u001b[0m \u001b[38;5;28;01mreturn\u001b[39;00m engine\u001b[38;5;241m.\u001b[39mstate \u001b[38;5;28;01mif\u001b[39;00m return_type \u001b[38;5;241m==\u001b[39m \u001b[38;5;124m\"\u001b[39m\u001b[38;5;124mstate\u001b[39m\u001b[38;5;124m\"\u001b[39m \u001b[38;5;28;01melse\u001b[39;00m \u001b[43mengine\u001b[49m\u001b[38;5;241;43m.\u001b[39;49m\u001b[43mresult\u001b[49m\u001b[43m(\u001b[49m\u001b[43m)\u001b[49m\n",
      "File \u001b[0;32m~/AVAIL/avail-research-road-network-resiliency/.venv/lib/python3.12/site-packages/prefect/task_engine.py:490\u001b[0m, in \u001b[0;36mSyncTaskRunEngine.result\u001b[0;34m(self, raise_on_failure)\u001b[0m\n\u001b[1;32m    487\u001b[0m \u001b[38;5;28;01mif\u001b[39;00m \u001b[38;5;28mself\u001b[39m\u001b[38;5;241m.\u001b[39m_raised \u001b[38;5;129;01mis\u001b[39;00m \u001b[38;5;129;01mnot\u001b[39;00m NotSet:\n\u001b[1;32m    488\u001b[0m     \u001b[38;5;66;03m# if the task raised an exception, raise it\u001b[39;00m\n\u001b[1;32m    489\u001b[0m     \u001b[38;5;28;01mif\u001b[39;00m raise_on_failure:\n\u001b[0;32m--> 490\u001b[0m         \u001b[38;5;28;01mraise\u001b[39;00m \u001b[38;5;28mself\u001b[39m\u001b[38;5;241m.\u001b[39m_raised\n\u001b[1;32m    492\u001b[0m     \u001b[38;5;66;03m# otherwise, return the exception\u001b[39;00m\n\u001b[1;32m    493\u001b[0m     \u001b[38;5;28;01mreturn\u001b[39;00m \u001b[38;5;28mself\u001b[39m\u001b[38;5;241m.\u001b[39m_raised\n",
      "File \u001b[0;32m~/AVAIL/avail-research-road-network-resiliency/.venv/lib/python3.12/site-packages/prefect/task_engine.py:819\u001b[0m, in \u001b[0;36mSyncTaskRunEngine.run_context\u001b[0;34m(self)\u001b[0m\n\u001b[1;32m    816\u001b[0m         \u001b[38;5;28;01mif\u001b[39;00m \u001b[38;5;28mself\u001b[39m\u001b[38;5;241m.\u001b[39mis_cancelled():\n\u001b[1;32m    817\u001b[0m             \u001b[38;5;28;01mraise\u001b[39;00m CancelledError(\u001b[38;5;124m\"\u001b[39m\u001b[38;5;124mTask run cancelled by the task runner\u001b[39m\u001b[38;5;124m\"\u001b[39m)\n\u001b[0;32m--> 819\u001b[0m         \u001b[38;5;28;01myield\u001b[39;00m \u001b[38;5;28mself\u001b[39m\n\u001b[1;32m    820\u001b[0m \u001b[38;5;28;01mexcept\u001b[39;00m \u001b[38;5;167;01mTimeoutError\u001b[39;00m \u001b[38;5;28;01mas\u001b[39;00m exc:\n\u001b[1;32m    821\u001b[0m     \u001b[38;5;28mself\u001b[39m\u001b[38;5;241m.\u001b[39mhandle_timeout(exc)\n",
      "File \u001b[0;32m~/AVAIL/avail-research-road-network-resiliency/.venv/lib/python3.12/site-packages/prefect/task_engine.py:1395\u001b[0m, in \u001b[0;36mrun_task_sync\u001b[0;34m(task, task_run_id, task_run, parameters, wait_for, return_type, dependencies, context)\u001b[0m\n\u001b[1;32m   1393\u001b[0m         run_coro_as_sync(engine\u001b[38;5;241m.\u001b[39mwait_until_ready())\n\u001b[1;32m   1394\u001b[0m         \u001b[38;5;28;01mwith\u001b[39;00m engine\u001b[38;5;241m.\u001b[39mrun_context(), engine\u001b[38;5;241m.\u001b[39mtransaction_context() \u001b[38;5;28;01mas\u001b[39;00m txn:\n\u001b[0;32m-> 1395\u001b[0m             \u001b[43mengine\u001b[49m\u001b[38;5;241;43m.\u001b[39;49m\u001b[43mcall_task_fn\u001b[49m\u001b[43m(\u001b[49m\u001b[43mtxn\u001b[49m\u001b[43m)\u001b[49m\n\u001b[1;32m   1397\u001b[0m \u001b[38;5;28;01mreturn\u001b[39;00m engine\u001b[38;5;241m.\u001b[39mstate \u001b[38;5;28;01mif\u001b[39;00m return_type \u001b[38;5;241m==\u001b[39m \u001b[38;5;124m\"\u001b[39m\u001b[38;5;124mstate\u001b[39m\u001b[38;5;124m\"\u001b[39m \u001b[38;5;28;01melse\u001b[39;00m engine\u001b[38;5;241m.\u001b[39mresult()\n",
      "File \u001b[0;32m~/AVAIL/avail-research-road-network-resiliency/.venv/lib/python3.12/site-packages/prefect/task_engine.py:836\u001b[0m, in \u001b[0;36mSyncTaskRunEngine.call_task_fn\u001b[0;34m(self, transaction)\u001b[0m\n\u001b[1;32m    834\u001b[0m     result \u001b[38;5;241m=\u001b[39m transaction\u001b[38;5;241m.\u001b[39mread()\n\u001b[1;32m    835\u001b[0m \u001b[38;5;28;01melse\u001b[39;00m:\n\u001b[0;32m--> 836\u001b[0m     result \u001b[38;5;241m=\u001b[39m \u001b[43mcall_with_parameters\u001b[49m\u001b[43m(\u001b[49m\u001b[38;5;28;43mself\u001b[39;49m\u001b[38;5;241;43m.\u001b[39;49m\u001b[43mtask\u001b[49m\u001b[38;5;241;43m.\u001b[39;49m\u001b[43mfn\u001b[49m\u001b[43m,\u001b[49m\u001b[43m \u001b[49m\u001b[43mparameters\u001b[49m\u001b[43m)\u001b[49m\n\u001b[1;32m    837\u001b[0m \u001b[38;5;28mself\u001b[39m\u001b[38;5;241m.\u001b[39mhandle_success(result, transaction\u001b[38;5;241m=\u001b[39mtransaction)\n\u001b[1;32m    838\u001b[0m \u001b[38;5;28;01mreturn\u001b[39;00m result\n",
      "File \u001b[0;32m~/AVAIL/avail-research-road-network-resiliency/.venv/lib/python3.12/site-packages/prefect/utilities/callables.py:210\u001b[0m, in \u001b[0;36mcall_with_parameters\u001b[0;34m(fn, parameters)\u001b[0m\n\u001b[1;32m    202\u001b[0m \u001b[38;5;250m\u001b[39m\u001b[38;5;124;03m\"\"\"\u001b[39;00m\n\u001b[1;32m    203\u001b[0m \u001b[38;5;124;03mCall a function with parameters extracted with `get_call_parameters`\u001b[39;00m\n\u001b[1;32m    204\u001b[0m \n\u001b[0;32m   (...)\u001b[0m\n\u001b[1;32m    207\u001b[0m \u001b[38;5;124;03mthe args/kwargs using `parameters_to_positional_and_keyword` directly\u001b[39;00m\n\u001b[1;32m    208\u001b[0m \u001b[38;5;124;03m\"\"\"\u001b[39;00m\n\u001b[1;32m    209\u001b[0m args, kwargs \u001b[38;5;241m=\u001b[39m parameters_to_args_kwargs(fn, parameters)\n\u001b[0;32m--> 210\u001b[0m \u001b[38;5;28;01mreturn\u001b[39;00m \u001b[43mfn\u001b[49m\u001b[43m(\u001b[49m\u001b[38;5;241;43m*\u001b[39;49m\u001b[43margs\u001b[49m\u001b[43m,\u001b[49m\u001b[43m \u001b[49m\u001b[38;5;241;43m*\u001b[39;49m\u001b[38;5;241;43m*\u001b[39;49m\u001b[43mkwargs\u001b[49m\u001b[43m)\u001b[49m\n",
      "File \u001b[0;32m~/AVAIL/avail-research-road-network-resiliency/tasks/osm/tasks.py:37\u001b[0m, in \u001b[0;36mextract_osm_region_road_network_task\u001b[0;34m(base_osm_pbf, geoid, buffer_dist_mi, output_dir, clean)\u001b[0m\n\u001b[1;32m     34\u001b[0m     logger\u001b[38;5;241m.\u001b[39merror(\u001b[38;5;124mf\u001b[39m\u001b[38;5;124m\"\u001b[39m\u001b[38;5;124mInput OSM PBF file not found: \u001b[39m\u001b[38;5;132;01m{\u001b[39;00mbase_osm_pbf\u001b[38;5;132;01m}\u001b[39;00m\u001b[38;5;124m\"\u001b[39m)\n\u001b[1;32m     35\u001b[0m     \u001b[38;5;28;01mraise\u001b[39;00m \u001b[38;5;167;01mFileNotFoundError\u001b[39;00m(\u001b[38;5;124mf\u001b[39m\u001b[38;5;124m\"\u001b[39m\u001b[38;5;124mInput OSM PBF file not found: \u001b[39m\u001b[38;5;132;01m{\u001b[39;00mbase_osm_pbf\u001b[38;5;132;01m}\u001b[39;00m\u001b[38;5;124m\"\u001b[39m)\n\u001b[0;32m---> 37\u001b[0m osm_pbf \u001b[38;5;241m=\u001b[39m \u001b[43mcreate_osm_region_road_network_extract_pbf\u001b[49m\u001b[43m(\u001b[49m\n\u001b[1;32m     38\u001b[0m \u001b[43m    \u001b[49m\u001b[43mbase_osm_pbf\u001b[49m\u001b[38;5;241;43m=\u001b[39;49m\u001b[43mbase_osm_pbf\u001b[49m\u001b[43m,\u001b[49m\n\u001b[1;32m     39\u001b[0m \u001b[43m    \u001b[49m\u001b[43mgeoid\u001b[49m\u001b[38;5;241;43m=\u001b[39;49m\u001b[43mgeoid\u001b[49m\u001b[43m,\u001b[49m\n\u001b[1;32m     40\u001b[0m \u001b[43m    \u001b[49m\u001b[43mbuffer_dist_mi\u001b[49m\u001b[38;5;241;43m=\u001b[39;49m\u001b[43mbuffer_dist_mi\u001b[49m\u001b[43m,\u001b[49m\n\u001b[1;32m     41\u001b[0m \u001b[43m    \u001b[49m\u001b[43moutput_dir\u001b[49m\u001b[38;5;241;43m=\u001b[39;49m\u001b[43moutput_dir\u001b[49m\u001b[43m,\u001b[49m\n\u001b[1;32m     42\u001b[0m \u001b[43m    \u001b[49m\u001b[43mclean\u001b[49m\u001b[38;5;241;43m=\u001b[39;49m\u001b[43mclean\u001b[49m\u001b[43m,\u001b[49m\n\u001b[1;32m     43\u001b[0m \u001b[43m\u001b[49m\u001b[43m)\u001b[49m\n\u001b[1;32m     45\u001b[0m logger\u001b[38;5;241m.\u001b[39minfo(\u001b[38;5;124mf\u001b[39m\u001b[38;5;124m\"\u001b[39m\u001b[38;5;124mOSM PBF extract creation complete for GEOID=\u001b[39m\u001b[38;5;132;01m{\u001b[39;00mgeoid\u001b[38;5;132;01m}\u001b[39;00m\u001b[38;5;124m\"\u001b[39m)\n\u001b[1;32m     47\u001b[0m \u001b[38;5;28;01mreturn\u001b[39;00m osm_pbf\n",
      "File \u001b[0;32m~/AVAIL/avail-research-road-network-resiliency/common/osm/extract.py:199\u001b[0m, in \u001b[0;36mcreate_osm_region_road_network_extract_pbf\u001b[0;34m(base_osm_pbf, geoid, buffer_dist_mi, output_dir, clean)\u001b[0m\n\u001b[1;32m    196\u001b[0m     \u001b[38;5;28;01melse\u001b[39;00m:\n\u001b[1;32m    197\u001b[0m         \u001b[38;5;28;01mreturn\u001b[39;00m output_file\n\u001b[0;32m--> 199\u001b[0m \u001b[43moutput_osmosis_filter_poly\u001b[49m\u001b[43m(\u001b[49m\n\u001b[1;32m    200\u001b[0m \u001b[43m    \u001b[49m\u001b[43mregion_gdf\u001b[49m\u001b[38;5;241;43m=\u001b[39;49m\u001b[43mbuffered_region_gdf\u001b[49m\u001b[43m,\u001b[49m\u001b[43m  \u001b[49m\u001b[38;5;66;43;03m#\u001b[39;49;00m\n\u001b[1;32m    201\u001b[0m \u001b[43m    \u001b[49m\u001b[43mout_filename\u001b[49m\u001b[38;5;241;43m=\u001b[39;49m\u001b[43mpoly_filename\u001b[49m\u001b[43m,\u001b[49m\n\u001b[1;32m    202\u001b[0m \u001b[43m\u001b[49m\u001b[43m)\u001b[49m\n\u001b[1;32m    204\u001b[0m \u001b[38;5;66;03m# https://wiki.openstreetmap.org/wiki/Key:highway\u001b[39;00m\n\u001b[1;32m    205\u001b[0m major_roadways \u001b[38;5;241m=\u001b[39m [\n\u001b[1;32m    206\u001b[0m     \u001b[38;5;124m\"\u001b[39m\u001b[38;5;124mmotorway\u001b[39m\u001b[38;5;124m\"\u001b[39m,\n\u001b[1;32m    207\u001b[0m     \u001b[38;5;124m\"\u001b[39m\u001b[38;5;124mmotorway_link\u001b[39m\u001b[38;5;124m\"\u001b[39m,\n\u001b[0;32m   (...)\u001b[0m\n\u001b[1;32m    216\u001b[0m     \u001b[38;5;124m\"\u001b[39m\u001b[38;5;124mtertiary_link\u001b[39m\u001b[38;5;124m\"\u001b[39m,\n\u001b[1;32m    217\u001b[0m ]\n",
      "File \u001b[0;32m~/AVAIL/avail-research-road-network-resiliency/common/osm/extract.py:137\u001b[0m, in \u001b[0;36moutput_osmosis_filter_poly\u001b[0;34m(region_gdf, out_filename)\u001b[0m\n\u001b[1;32m    134\u001b[0m lines\u001b[38;5;241m.\u001b[39mappend(\u001b[38;5;124m\"\u001b[39m\u001b[38;5;124mEND\u001b[39m\u001b[38;5;124m\"\u001b[39m)\n\u001b[1;32m    136\u001b[0m \u001b[38;5;66;03m# Write the lines to the specified output file\u001b[39;00m\n\u001b[0;32m--> 137\u001b[0m \u001b[38;5;28;01mwith\u001b[39;00m \u001b[38;5;28;43mopen\u001b[39;49m\u001b[43m(\u001b[49m\u001b[43mout_filename\u001b[49m\u001b[43m,\u001b[49m\u001b[43m \u001b[49m\u001b[38;5;124;43m\"\u001b[39;49m\u001b[38;5;124;43mw\u001b[39;49m\u001b[38;5;124;43m\"\u001b[39;49m\u001b[43m)\u001b[49m \u001b[38;5;28;01mas\u001b[39;00m f:\n\u001b[1;32m    138\u001b[0m     f\u001b[38;5;241m.\u001b[39mwrite(\u001b[38;5;124m\"\u001b[39m\u001b[38;5;130;01m\\n\u001b[39;00m\u001b[38;5;124m\"\u001b[39m\u001b[38;5;241m.\u001b[39mjoin(lines))\n\u001b[1;32m    140\u001b[0m \u001b[38;5;28;01mreturn\u001b[39;00m out_filename\n",
      "\u001b[0;31mFileNotFoundError\u001b[0m: [Errno 2] No such file or directory: '/home/avail/AVAIL/avail-research-road-network-resiliency/common/data/processed/osm/buffer-10mi-county-36041.poly'"
     ]
    }
   ],
   "source": [
    "main(geoid)"
   ]
  },
  {
   "cell_type": "code",
   "execution_count": null,
   "id": "8e985f0c",
   "metadata": {},
   "outputs": [],
   "source": []
  }
 ],
 "metadata": {
  "kernelspec": {
   "display_name": ".venv",
   "language": "python",
   "name": "python3"
  },
  "language_info": {
   "codemirror_mode": {
    "name": "ipython",
    "version": 3
   },
   "file_extension": ".py",
   "mimetype": "text/x-python",
   "name": "python",
   "nbconvert_exporter": "python",
   "pygments_lexer": "ipython3",
   "version": "3.12.8"
  }
 },
 "nbformat": 4,
 "nbformat_minor": 5
}
